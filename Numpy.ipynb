{
 "cells": [
  {
   "cell_type": "code",
   "execution_count": 1,
   "id": "0abd90ff",
   "metadata": {},
   "outputs": [],
   "source": [
    "import numpy as np"
   ]
  },
  {
   "cell_type": "markdown",
   "id": "17f7d356",
   "metadata": {},
   "source": [
    "## Creating Arrays"
   ]
  },
  {
   "cell_type": "code",
   "execution_count": 2,
   "id": "4e38a174",
   "metadata": {},
   "outputs": [
    {
     "data": {
      "text/plain": [
       "array([[1, 1, 1, 1, 1, 1, 1, 1, 1],\n",
       "       [1, 1, 1, 1, 1, 1, 1, 1, 1],\n",
       "       [1, 1, 1, 1, 1, 1, 1, 1, 1],\n",
       "       [1, 1, 1, 1, 1, 1, 1, 1, 1],\n",
       "       [1, 1, 1, 1, 1, 1, 1, 1, 1]])"
      ]
     },
     "execution_count": 2,
     "metadata": {},
     "output_type": "execute_result"
    }
   ],
   "source": [
    "ex1 = np.ones((5,9), dtype=int)\n",
    "ex1"
   ]
  },
  {
   "cell_type": "code",
   "execution_count": 3,
   "id": "3a9eefa7",
   "metadata": {},
   "outputs": [
    {
     "data": {
      "text/html": [
       "<div>\n",
       "<style scoped>\n",
       "    .dataframe tbody tr th:only-of-type {\n",
       "        vertical-align: middle;\n",
       "    }\n",
       "\n",
       "    .dataframe tbody tr th {\n",
       "        vertical-align: top;\n",
       "    }\n",
       "\n",
       "    .dataframe thead th {\n",
       "        text-align: right;\n",
       "    }\n",
       "</style>\n",
       "<table border=\"1\" class=\"dataframe\">\n",
       "  <thead>\n",
       "    <tr style=\"text-align: right;\">\n",
       "      <th></th>\n",
       "      <th>0</th>\n",
       "      <th>1</th>\n",
       "      <th>2</th>\n",
       "      <th>3</th>\n",
       "      <th>4</th>\n",
       "      <th>5</th>\n",
       "      <th>6</th>\n",
       "      <th>7</th>\n",
       "      <th>8</th>\n",
       "    </tr>\n",
       "  </thead>\n",
       "  <tbody>\n",
       "    <tr>\n",
       "      <th>0</th>\n",
       "      <td>1</td>\n",
       "      <td>1</td>\n",
       "      <td>1</td>\n",
       "      <td>1</td>\n",
       "      <td>1</td>\n",
       "      <td>1</td>\n",
       "      <td>1</td>\n",
       "      <td>1</td>\n",
       "      <td>1</td>\n",
       "    </tr>\n",
       "    <tr>\n",
       "      <th>1</th>\n",
       "      <td>1</td>\n",
       "      <td>1</td>\n",
       "      <td>1</td>\n",
       "      <td>1</td>\n",
       "      <td>1</td>\n",
       "      <td>1</td>\n",
       "      <td>1</td>\n",
       "      <td>1</td>\n",
       "      <td>1</td>\n",
       "    </tr>\n",
       "    <tr>\n",
       "      <th>2</th>\n",
       "      <td>1</td>\n",
       "      <td>1</td>\n",
       "      <td>1</td>\n",
       "      <td>1</td>\n",
       "      <td>1</td>\n",
       "      <td>1</td>\n",
       "      <td>1</td>\n",
       "      <td>1</td>\n",
       "      <td>1</td>\n",
       "    </tr>\n",
       "    <tr>\n",
       "      <th>3</th>\n",
       "      <td>1</td>\n",
       "      <td>1</td>\n",
       "      <td>1</td>\n",
       "      <td>1</td>\n",
       "      <td>1</td>\n",
       "      <td>1</td>\n",
       "      <td>1</td>\n",
       "      <td>1</td>\n",
       "      <td>1</td>\n",
       "    </tr>\n",
       "    <tr>\n",
       "      <th>4</th>\n",
       "      <td>1</td>\n",
       "      <td>1</td>\n",
       "      <td>1</td>\n",
       "      <td>1</td>\n",
       "      <td>1</td>\n",
       "      <td>1</td>\n",
       "      <td>1</td>\n",
       "      <td>1</td>\n",
       "      <td>1</td>\n",
       "    </tr>\n",
       "  </tbody>\n",
       "</table>\n",
       "</div>"
      ],
      "text/plain": [
       "   0  1  2  3  4  5  6  7  8\n",
       "0  1  1  1  1  1  1  1  1  1\n",
       "1  1  1  1  1  1  1  1  1  1\n",
       "2  1  1  1  1  1  1  1  1  1\n",
       "3  1  1  1  1  1  1  1  1  1\n",
       "4  1  1  1  1  1  1  1  1  1"
      ]
     },
     "execution_count": 3,
     "metadata": {},
     "output_type": "execute_result"
    }
   ],
   "source": [
    "import pandas as pd\n",
    "df = pd.DataFrame(ex1)\n",
    "df"
   ]
  },
  {
   "cell_type": "code",
   "execution_count": 4,
   "id": "47690b5d",
   "metadata": {},
   "outputs": [
    {
     "data": {
      "text/plain": [
       "array([[[[169,  16],\n",
       "         [ 73,  23]],\n",
       "\n",
       "        [[ 44,  76],\n",
       "         [105,   8]],\n",
       "\n",
       "        [[163, 178],\n",
       "         [ 96,  76]]],\n",
       "\n",
       "\n",
       "       [[[ 48,  64],\n",
       "         [ 32, 149]],\n",
       "\n",
       "        [[125, 117],\n",
       "         [ 38, 168]],\n",
       "\n",
       "        [[196, 103],\n",
       "         [  5, 171]]]])"
      ]
     },
     "execution_count": 4,
     "metadata": {},
     "output_type": "execute_result"
    }
   ],
   "source": [
    "np.random.seed(2)\n",
    "ex2= np.random.randint(1,200, size=(2,3,2,2))\n",
    "ex2"
   ]
  },
  {
   "cell_type": "code",
   "execution_count": 5,
   "id": "b3ffabfb",
   "metadata": {},
   "outputs": [
    {
     "data": {
      "text/plain": [
       "array([[[[169,  16],\n",
       "         [ 73,  23]]],\n",
       "\n",
       "\n",
       "       [[[ 48,  64],\n",
       "         [ 32, 149]]]])"
      ]
     },
     "execution_count": 5,
     "metadata": {},
     "output_type": "execute_result"
    }
   ],
   "source": [
    "ex2[:,:1,:,:]"
   ]
  },
  {
   "cell_type": "code",
   "execution_count": 6,
   "id": "cf8c66bb",
   "metadata": {},
   "outputs": [
    {
     "data": {
      "text/plain": [
       "array([[ 9, 16, 14],\n",
       "       [ 9, 12, 19]])"
      ]
     },
     "execution_count": 6,
     "metadata": {},
     "output_type": "execute_result"
    }
   ],
   "source": [
    "np.random.seed(2)\n",
    "ex2= np.random.randint(1,20, size=(2,3))\n",
    "ex2"
   ]
  },
  {
   "cell_type": "code",
   "execution_count": 7,
   "id": "a16e5d66",
   "metadata": {},
   "outputs": [
    {
     "data": {
      "text/plain": [
       "array([  1,   2,   3,   4,   5,   6,   7,   8,   9,  10,  11,  12,  13,\n",
       "        14,  15,  16,  17,  18,  19,  20,  21,  22,  23,  24,  25,  26,\n",
       "        27,  28,  29,  30,  31,  32,  33,  34,  35,  36,  37,  38,  39,\n",
       "        40,  41,  42,  43,  44,  45,  46,  47,  48,  49,  50,  51,  52,\n",
       "        53,  54,  55,  56,  57,  58,  59,  60,  61,  62,  63,  64,  65,\n",
       "        66,  67,  68,  69,  70,  71,  72,  73,  74,  75,  76,  77,  78,\n",
       "        79,  80,  81,  82,  83,  84,  85,  86,  87,  88,  89,  90,  91,\n",
       "        92,  93,  94,  95,  96,  97,  98,  99, 100, 101, 102, 103, 104,\n",
       "       105, 106, 107, 108, 109, 110, 111, 112, 113, 114, 115, 116, 117,\n",
       "       118, 119, 120, 121, 122, 123, 124, 125, 126, 127, 128, 129, 130,\n",
       "       131, 132, 133, 134, 135, 136, 137, 138, 139, 140, 141, 142, 143,\n",
       "       144, 145, 146, 147, 148, 149, 150, 151, 152, 153, 154, 155, 156,\n",
       "       157, 158, 159, 160, 161, 162, 163, 164, 165, 166, 167, 168, 169,\n",
       "       170, 171, 172, 173, 174, 175, 176, 177, 178, 179, 180, 181, 182,\n",
       "       183, 184, 185, 186, 187, 188, 189, 190, 191, 192, 193, 194, 195,\n",
       "       196, 197, 198, 199, 200])"
      ]
     },
     "execution_count": 7,
     "metadata": {},
     "output_type": "execute_result"
    }
   ],
   "source": [
    "ex3 = np.arange(1,201)\n",
    "ex3"
   ]
  },
  {
   "cell_type": "code",
   "execution_count": 8,
   "id": "5ae14e9e",
   "metadata": {},
   "outputs": [
    {
     "data": {
      "text/plain": [
       "array([[0.4847491 , 0.32053644, 0.15442667],\n",
       "       [0.69886269, 0.11995054, 0.48517591],\n",
       "       [0.63273773, 0.81822672, 0.68302599],\n",
       "       [0.49856117, 0.58679698, 0.71975423]])"
      ]
     },
     "execution_count": 8,
     "metadata": {},
     "output_type": "execute_result"
    }
   ],
   "source": [
    "ex4= np.random.rand(4,3)\n",
    "ex4"
   ]
  },
  {
   "cell_type": "code",
   "execution_count": 9,
   "id": "a0a4b05e",
   "metadata": {},
   "outputs": [
    {
     "data": {
      "text/plain": [
       "array([[3, 9, 9],\n",
       "       [1, 4, 4]])"
      ]
     },
     "execution_count": 9,
     "metadata": {},
     "output_type": "execute_result"
    }
   ],
   "source": [
    "ex5 = np.array([[3,9,9], [1,4,4]])\n",
    "ex5\n"
   ]
  },
  {
   "cell_type": "code",
   "execution_count": 10,
   "id": "e2ffc444",
   "metadata": {},
   "outputs": [
    {
     "data": {
      "text/plain": [
       "array([[0.33333333, 0.5625    , 0.64285714],\n",
       "       [0.11111111, 0.33333333, 0.21052632]])"
      ]
     },
     "execution_count": 10,
     "metadata": {},
     "output_type": "execute_result"
    }
   ],
   "source": [
    "ex5 / ex2"
   ]
  },
  {
   "cell_type": "code",
   "execution_count": 11,
   "id": "0002bb91",
   "metadata": {},
   "outputs": [
    {
     "data": {
      "text/plain": [
       "array([[3, 9, 9],\n",
       "       [1, 4, 4]])"
      ]
     },
     "execution_count": 11,
     "metadata": {},
     "output_type": "execute_result"
    }
   ],
   "source": [
    "ex5 % ex2"
   ]
  },
  {
   "cell_type": "code",
   "execution_count": 12,
   "id": "4e422e9b",
   "metadata": {},
   "outputs": [
    {
     "data": {
      "text/plain": [
       "array([[ 9, 81, 81],\n",
       "       [ 1, 16, 16]])"
      ]
     },
     "execution_count": 12,
     "metadata": {},
     "output_type": "execute_result"
    }
   ],
   "source": [
    "ex5 ** 2"
   ]
  },
  {
   "cell_type": "code",
   "execution_count": 13,
   "id": "192f5258",
   "metadata": {},
   "outputs": [
    {
     "data": {
      "text/plain": [
       "array([[3, 9, 9],\n",
       "       [1, 4, 4]])"
      ]
     },
     "execution_count": 13,
     "metadata": {},
     "output_type": "execute_result"
    }
   ],
   "source": [
    "np.mod(ex5, ex2)"
   ]
  },
  {
   "cell_type": "code",
   "execution_count": 14,
   "id": "84d51876",
   "metadata": {},
   "outputs": [
    {
     "data": {
      "text/plain": [
       "array([0.25849809, 0.54620732, 0.40730783, 0.17698462, 0.96963241,\n",
       "       0.29701836, 0.28786882, 0.11619332, 0.18172704, 0.49428977])"
      ]
     },
     "execution_count": 14,
     "metadata": {},
     "output_type": "execute_result"
    }
   ],
   "source": [
    "large = np.random.random(100000)\n",
    "large[:10]"
   ]
  },
  {
   "cell_type": "code",
   "execution_count": 15,
   "id": "1b9cff76",
   "metadata": {},
   "outputs": [
    {
     "name": "stdout",
     "output_type": "stream",
     "text": [
      "25.3 ms ± 5.2 ms per loop (mean ± std. dev. of 7 runs, 10 loops each)\n",
      "123 µs ± 12.2 µs per loop (mean ± std. dev. of 7 runs, 10,000 loops each)\n"
     ]
    }
   ],
   "source": [
    "%timeit sum(large)\n",
    "%timeit np.sum(large)"
   ]
  },
  {
   "cell_type": "code",
   "execution_count": 16,
   "id": "c0571d4b",
   "metadata": {},
   "outputs": [],
   "source": [
    "ex1 = np.random.randint(10, size=(3,5))\n",
    "ex2 = np.random.randint(10, size=(1,5))"
   ]
  },
  {
   "cell_type": "code",
   "execution_count": 17,
   "id": "01fab30d",
   "metadata": {},
   "outputs": [
    {
     "data": {
      "text/plain": [
       "array([[7, 5, 2, 3, 9],\n",
       "       [6, 3, 5, 2, 0],\n",
       "       [1, 7, 3, 3, 8]])"
      ]
     },
     "execution_count": 17,
     "metadata": {},
     "output_type": "execute_result"
    }
   ],
   "source": [
    "ex1"
   ]
  },
  {
   "cell_type": "code",
   "execution_count": 18,
   "id": "fb94d084",
   "metadata": {},
   "outputs": [
    {
     "data": {
      "text/plain": [
       "array([[8, 7, 1, 7, 8]])"
      ]
     },
     "execution_count": 18,
     "metadata": {},
     "output_type": "execute_result"
    }
   ],
   "source": [
    "ex2"
   ]
  },
  {
   "cell_type": "code",
   "execution_count": 19,
   "id": "e1c1d451",
   "metadata": {},
   "outputs": [],
   "source": [
    "### res = np.dot(ex1, ex2)"
   ]
  },
  {
   "cell_type": "code",
   "execution_count": 20,
   "id": "f3497498",
   "metadata": {},
   "outputs": [],
   "source": [
    "#res"
   ]
  },
  {
   "cell_type": "code",
   "execution_count": 21,
   "id": "03142eb9",
   "metadata": {},
   "outputs": [],
   "source": [
    "import pandas as pd\n",
    "\n",
    "sales = pd.DataFrame(ex1, index=('Mon', 'Tues', 'Wed'), columns=('Rice', 'Beans', 'Plantain', 'Yam', 'Garri'))"
   ]
  },
  {
   "cell_type": "code",
   "execution_count": 22,
   "id": "b153ee50",
   "metadata": {},
   "outputs": [
    {
     "data": {
      "text/plain": [
       "(3, 5)"
      ]
     },
     "execution_count": 22,
     "metadata": {},
     "output_type": "execute_result"
    }
   ],
   "source": [
    "sales.shape"
   ]
  },
  {
   "cell_type": "code",
   "execution_count": 23,
   "id": "62871087",
   "metadata": {},
   "outputs": [
    {
     "data": {
      "text/plain": [
       "(1, 5)"
      ]
     },
     "execution_count": 23,
     "metadata": {},
     "output_type": "execute_result"
    }
   ],
   "source": [
    "price = pd.DataFrame(ex2, index=['Price'], columns=('Rice', 'Beans', 'Plantain', 'Yam', 'Garri'))\n",
    "price.shape"
   ]
  },
  {
   "cell_type": "code",
   "execution_count": 24,
   "id": "338fcf16",
   "metadata": {},
   "outputs": [],
   "source": [
    "total = np.dot(sales,price.T)"
   ]
  },
  {
   "cell_type": "code",
   "execution_count": 25,
   "id": "cbdd5d59",
   "metadata": {},
   "outputs": [
    {
     "data": {
      "text/plain": [
       "array([[186],\n",
       "       [ 88],\n",
       "       [145]])"
      ]
     },
     "execution_count": 25,
     "metadata": {},
     "output_type": "execute_result"
    }
   ],
   "source": [
    "total"
   ]
  },
  {
   "cell_type": "code",
   "execution_count": 26,
   "id": "b69cb7c1",
   "metadata": {},
   "outputs": [],
   "source": [
    "sales['Total ($)'] = total"
   ]
  },
  {
   "cell_type": "code",
   "execution_count": 27,
   "id": "3ca0d85b",
   "metadata": {},
   "outputs": [
    {
     "data": {
      "text/html": [
       "<div>\n",
       "<style scoped>\n",
       "    .dataframe tbody tr th:only-of-type {\n",
       "        vertical-align: middle;\n",
       "    }\n",
       "\n",
       "    .dataframe tbody tr th {\n",
       "        vertical-align: top;\n",
       "    }\n",
       "\n",
       "    .dataframe thead th {\n",
       "        text-align: right;\n",
       "    }\n",
       "</style>\n",
       "<table border=\"1\" class=\"dataframe\">\n",
       "  <thead>\n",
       "    <tr style=\"text-align: right;\">\n",
       "      <th></th>\n",
       "      <th>Rice</th>\n",
       "      <th>Beans</th>\n",
       "      <th>Plantain</th>\n",
       "      <th>Yam</th>\n",
       "      <th>Garri</th>\n",
       "      <th>Total ($)</th>\n",
       "    </tr>\n",
       "  </thead>\n",
       "  <tbody>\n",
       "    <tr>\n",
       "      <th>Mon</th>\n",
       "      <td>7</td>\n",
       "      <td>5</td>\n",
       "      <td>2</td>\n",
       "      <td>3</td>\n",
       "      <td>9</td>\n",
       "      <td>186</td>\n",
       "    </tr>\n",
       "    <tr>\n",
       "      <th>Tues</th>\n",
       "      <td>6</td>\n",
       "      <td>3</td>\n",
       "      <td>5</td>\n",
       "      <td>2</td>\n",
       "      <td>0</td>\n",
       "      <td>88</td>\n",
       "    </tr>\n",
       "    <tr>\n",
       "      <th>Wed</th>\n",
       "      <td>1</td>\n",
       "      <td>7</td>\n",
       "      <td>3</td>\n",
       "      <td>3</td>\n",
       "      <td>8</td>\n",
       "      <td>145</td>\n",
       "    </tr>\n",
       "  </tbody>\n",
       "</table>\n",
       "</div>"
      ],
      "text/plain": [
       "      Rice  Beans  Plantain  Yam  Garri  Total ($)\n",
       "Mon      7      5         2    3      9        186\n",
       "Tues     6      3         5    2      0         88\n",
       "Wed      1      7         3    3      8        145"
      ]
     },
     "execution_count": 27,
     "metadata": {},
     "output_type": "execute_result"
    }
   ],
   "source": [
    "sales"
   ]
  },
  {
   "cell_type": "code",
   "execution_count": 28,
   "id": "216998fe",
   "metadata": {},
   "outputs": [
    {
     "data": {
      "text/html": [
       "<div>\n",
       "<style scoped>\n",
       "    .dataframe tbody tr th:only-of-type {\n",
       "        vertical-align: middle;\n",
       "    }\n",
       "\n",
       "    .dataframe tbody tr th {\n",
       "        vertical-align: top;\n",
       "    }\n",
       "\n",
       "    .dataframe thead th {\n",
       "        text-align: right;\n",
       "    }\n",
       "</style>\n",
       "<table border=\"1\" class=\"dataframe\">\n",
       "  <thead>\n",
       "    <tr style=\"text-align: right;\">\n",
       "      <th></th>\n",
       "      <th>Rice</th>\n",
       "      <th>Beans</th>\n",
       "      <th>Plantain</th>\n",
       "      <th>Yam</th>\n",
       "      <th>Garri</th>\n",
       "    </tr>\n",
       "  </thead>\n",
       "  <tbody>\n",
       "    <tr>\n",
       "      <th>Price</th>\n",
       "      <td>8</td>\n",
       "      <td>7</td>\n",
       "      <td>1</td>\n",
       "      <td>7</td>\n",
       "      <td>8</td>\n",
       "    </tr>\n",
       "  </tbody>\n",
       "</table>\n",
       "</div>"
      ],
      "text/plain": [
       "       Rice  Beans  Plantain  Yam  Garri\n",
       "Price     8      7         1    7      8"
      ]
     },
     "execution_count": 28,
     "metadata": {},
     "output_type": "execute_result"
    }
   ],
   "source": [
    "price"
   ]
  },
  {
   "cell_type": "code",
   "execution_count": 40,
   "id": "82de6205",
   "metadata": {},
   "outputs": [
    {
     "name": "stdout",
     "output_type": "stream",
     "text": [
      "       Rice  Beans  Plantain  Yam  Garri  Total ($)\n",
      "Mon       7      5         2    3      9      186.0\n",
      "Tues      6      3         5    2      0       88.0\n",
      "Wed       1      7         3    3      8      145.0\n",
      "Price     8      7         1    7      8        NaN\n"
     ]
    }
   ],
   "source": [
    "workbook=pd.concat([sales, price], axis=0)\n",
    "print(workbook)"
   ]
  },
  {
   "cell_type": "markdown",
   "id": "f78acc0d",
   "metadata": {},
   "source": [
    "## Some image work"
   ]
  },
  {
   "attachments": {
    "download.png": {
     "image/png": "[encoded data removed]"
    }
   },
   "cell_type": "markdown",
   "id": "9ebd7674",
   "metadata": {},
   "source": [
    "![download.png](attachment:download.png)"
   ]
  },
  {
   "cell_type": "code",
   "execution_count": 29,
   "id": "85231593",
   "metadata": {},
   "outputs": [],
   "source": [
    "from matplotlib.image import imread"
   ]
  },
  {
   "cell_type": "code",
   "execution_count": 30,
   "id": "2c23f641",
   "metadata": {},
   "outputs": [],
   "source": [
    "image = imread('download.png')"
   ]
  },
  {
   "cell_type": "code",
   "execution_count": 31,
   "id": "7647cc0f",
   "metadata": {},
   "outputs": [
    {
     "data": {
      "text/plain": [
       "array([[[1.        , 1.        , 1.        , 1.        ],\n",
       "        [1.        , 1.        , 1.        , 1.        ],\n",
       "        [1.        , 1.        , 1.        , 1.        ],\n",
       "        ...,\n",
       "        [1.        , 1.        , 1.        , 1.        ],\n",
       "        [0.9490196 , 0.9490196 , 0.9490196 , 1.        ],\n",
       "        [0.8980392 , 0.8980392 , 0.8980392 , 1.        ]],\n",
       "\n",
       "       [[1.        , 1.        , 1.        , 1.        ],\n",
       "        [1.        , 1.        , 1.        , 1.        ],\n",
       "        [1.        , 1.        , 1.        , 1.        ],\n",
       "        ...,\n",
       "        [1.        , 1.        , 1.        , 1.        ],\n",
       "        [0.9490196 , 0.9490196 , 0.9490196 , 1.        ],\n",
       "        [0.8980392 , 0.8980392 , 0.8980392 , 1.        ]],\n",
       "\n",
       "       [[1.        , 1.        , 1.        , 1.        ],\n",
       "        [1.        , 1.        , 1.        , 1.        ],\n",
       "        [1.        , 1.        , 1.        , 1.        ],\n",
       "        ...,\n",
       "        [1.        , 1.        , 1.        , 1.        ],\n",
       "        [0.9490196 , 0.9490196 , 0.9490196 , 1.        ],\n",
       "        [0.8980392 , 0.8980392 , 0.8980392 , 1.        ]],\n",
       "\n",
       "       ...,\n",
       "\n",
       "       [[0.9019608 , 0.9019608 , 0.9019608 , 1.        ],\n",
       "        [0.9019608 , 0.9019608 , 0.9019608 , 1.        ],\n",
       "        [0.9019608 , 0.9019608 , 0.9019608 , 1.        ],\n",
       "        ...,\n",
       "        [0.8980392 , 0.8980392 , 0.8980392 , 1.        ],\n",
       "        [0.9529412 , 0.9529412 , 0.9529412 , 1.        ],\n",
       "        [1.        , 1.        , 1.        , 1.        ]],\n",
       "\n",
       "       [[0.8980392 , 0.8980392 , 0.8980392 , 1.        ],\n",
       "        [0.8980392 , 0.8980392 , 0.8980392 , 1.        ],\n",
       "        [0.8980392 , 0.8980392 , 0.8980392 , 1.        ],\n",
       "        ...,\n",
       "        [0.89411765, 0.89411765, 0.89411765, 1.        ],\n",
       "        [0.9529412 , 0.9529412 , 0.9529412 , 1.        ],\n",
       "        [1.        , 1.        , 1.        , 1.        ]],\n",
       "\n",
       "       [[0.9372549 , 0.9372549 , 0.9372549 , 1.        ],\n",
       "        [0.9372549 , 0.9372549 , 0.9372549 , 1.        ],\n",
       "        [0.9372549 , 0.9372549 , 0.9372549 , 1.        ],\n",
       "        ...,\n",
       "        [0.9372549 , 0.9372549 , 0.9372549 , 1.        ],\n",
       "        [0.9529412 , 0.9529412 , 0.9529412 , 1.        ],\n",
       "        [0.96862745, 0.96862745, 0.96862745, 1.        ]]], dtype=float32)"
      ]
     },
     "execution_count": 31,
     "metadata": {},
     "output_type": "execute_result"
    }
   ],
   "source": [
    "image"
   ]
  },
  {
   "cell_type": "code",
   "execution_count": 32,
   "id": "1a5ec847",
   "metadata": {},
   "outputs": [
    {
     "data": {
      "text/plain": [
       "(201272, (181, 278, 4), 3)"
      ]
     },
     "execution_count": 32,
     "metadata": {},
     "output_type": "execute_result"
    }
   ],
   "source": [
    "image.size, image.shape, image.ndim"
   ]
  },
  {
   "cell_type": "code",
   "execution_count": 45,
   "id": "495bbf58",
   "metadata": {},
   "outputs": [],
   "source": [
    "sp= np.linspace(1, 100, num=3)"
   ]
  },
  {
   "cell_type": "code",
   "execution_count": 46,
   "id": "d4364e5d",
   "metadata": {},
   "outputs": [
    {
     "data": {
      "text/plain": [
       "array([  1. ,  50.5, 100. ])"
      ]
     },
     "execution_count": 46,
     "metadata": {},
     "output_type": "execute_result"
    }
   ],
   "source": [
    "sp"
   ]
  },
  {
   "cell_type": "code",
   "execution_count": 52,
   "id": "d54cb2b6",
   "metadata": {},
   "outputs": [
    {
     "name": "stdout",
     "output_type": "stream",
     "text": [
      "[[[1. 1.]\n",
      "  [1. 1.]\n",
      "  [1. 1.]]\n",
      "\n",
      " [[1. 1.]\n",
      "  [1. 1.]\n",
      "  [1. 1.]]\n",
      "\n",
      " [[1. 1.]\n",
      "  [1. 1.]\n",
      "  [1. 1.]]\n",
      "\n",
      " [[1. 1.]\n",
      "  [1. 1.]\n",
      "  [1. 1.]]]\n"
     ]
    }
   ],
   "source": [
    "print(np.ones((4,3,2)))"
   ]
  },
  {
   "cell_type": "code",
   "execution_count": null,
   "id": "d4b4446c",
   "metadata": {},
   "outputs": [],
   "source": []
  }
 ],
 "metadata": {
  "kernelspec": {
   "display_name": "py3-TF2.1",
   "language": "python",
   "name": "py3-tf2.1"
  },
  "language_info": {
   "codemirror_mode": {
    "name": "ipython",
    "version": 3
   },
   "file_extension": ".py",
   "mimetype": "text/x-python",
   "name": "python",
   "nbconvert_exporter": "python",
   "pygments_lexer": "ipython3",
   "version": "3.10.10"
  }
 },
 "nbformat": 4,
 "nbformat_minor": 5
}
